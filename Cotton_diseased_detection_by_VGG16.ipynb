{
  "nbformat": 4,
  "nbformat_minor": 0,
  "metadata": {
    "colab": {
      "name": "Cotton diseased detection by VGG16.ipynb",
      "provenance": [],
      "collapsed_sections": []
    },
    "kernelspec": {
      "name": "python3",
      "display_name": "Python 3"
    },
    "accelerator": "GPU"
  },
  "cells": [
    {
      "cell_type": "code",
      "metadata": {
        "id": "osKdVFmlKwf5",
        "colab": {
          "base_uri": "https://localhost:8080/"
        },
        "outputId": "a187fe69-90ed-4f7d-fe8f-4bd8223f3820"
      },
      "source": [
        "from tensorflow.compat.v1 import ConfigProto\n",
        "from tensorflow.compat.v1 import InteractiveSession\n",
        "\n",
        "config = ConfigProto()\n",
        "config.gpu_options.per_process_gpu_memory_fraction = 0.5\n",
        "config.gpu_options.allow_growth = True\n",
        "session = InteractiveSession(config=config)"
      ],
      "execution_count": 26,
      "outputs": [
        {
          "output_type": "stream",
          "text": [
            "/usr/local/lib/python3.6/dist-packages/tensorflow/python/client/session.py:1761: UserWarning: An interactive session is already active. This can cause out-of-memory errors in some cases. You must explicitly call `InteractiveSession.close()` to release resources held by the other session(s).\n",
            "  warnings.warn('An interactive session is already active. This can '\n"
          ],
          "name": "stderr"
        }
      ]
    },
    {
      "cell_type": "code",
      "metadata": {
        "id": "eIb6hBURK-OI"
      },
      "source": [
        "from tensorflow import keras \n",
        "from tensorflow.keras.layers import Dense,Conv2D,Flatten\n",
        "from tensorflow.keras.applications import VGG16,VGG19\n",
        "from tensorflow.keras.applications.resnet50 import ResNet50\n",
        "from tensorflow.keras.preprocessing import image\n",
        "from tensorflow.keras.preprocessing.image import ImageDataGenerator\n",
        "from tensorflow.keras.models import Model,Sequential,load_model\n",
        "import numpy as np\n",
        "import matplotlib.pyplot as plt\n",
        "from glob import glob"
      ],
      "execution_count": 27,
      "outputs": []
    },
    {
      "cell_type": "code",
      "metadata": {
        "id": "sD2onMAJL0f5"
      },
      "source": [
        "train_datagen=ImageDataGenerator(rescale=1./255,horizontal_flip=True,\n",
        "                                 rotation_range=.2,shear_range=.2,zoom_range=.2)\n",
        "test_datagen=ImageDataGenerator(rescale=1./255)"
      ],
      "execution_count": 28,
      "outputs": []
    },
    {
      "cell_type": "code",
      "metadata": {
        "colab": {
          "base_uri": "https://localhost:8080/"
        },
        "id": "8CVTqCUuHcEu",
        "outputId": "92f8f5d1-9372-468d-81cb-64ff63ddc354"
      },
      "source": [
        "training_set=train_datagen.flow_from_directory(\"/content/drive/MyDrive/Cotton_Dataset/train\",\n",
        "                                               target_size=(224,224),class_mode=\"categorical\",batch_size=20,shuffle=True)\n",
        "test_set=test_datagen.flow_from_directory(\"/content/drive/MyDrive/Cotton_Dataset/test\",\n",
        "                                               target_size=(224,224),class_mode=\"categorical\",batch_size=20,shuffle=True)"
      ],
      "execution_count": 29,
      "outputs": [
        {
          "output_type": "stream",
          "text": [
            "Found 1951 images belonging to 4 classes.\n",
            "Found 18 images belonging to 4 classes.\n"
          ],
          "name": "stdout"
        }
      ]
    },
    {
      "cell_type": "code",
      "metadata": {
        "colab": {
          "base_uri": "https://localhost:8080/"
        },
        "id": "4w6JNEVdIx5G",
        "outputId": "d2d8c1c6-81de-4513-a6a7-462fca978485"
      },
      "source": [
        "folder=glob(\"/content/drive/MyDrive/Cotton_Dataset/train/*\")\n",
        "folder"
      ],
      "execution_count": 30,
      "outputs": [
        {
          "output_type": "execute_result",
          "data": {
            "text/plain": [
              "['/content/drive/MyDrive/Cotton_Dataset/train/fresh cotton leaf',\n",
              " '/content/drive/MyDrive/Cotton_Dataset/train/fresh cotton plant',\n",
              " '/content/drive/MyDrive/Cotton_Dataset/train/diseased cotton leaf',\n",
              " '/content/drive/MyDrive/Cotton_Dataset/train/diseased cotton plant']"
            ]
          },
          "metadata": {
            "tags": []
          },
          "execution_count": 30
        }
      ]
    },
    {
      "cell_type": "code",
      "metadata": {
        "id": "e16AawWRKSBk"
      },
      "source": [
        "IMAGE_SIZE=[224,224]"
      ],
      "execution_count": 31,
      "outputs": []
    },
    {
      "cell_type": "code",
      "metadata": {
        "id": "WFVUmhxiKZN-"
      },
      "source": [
        "vgg16=VGG16(input_shape=IMAGE_SIZE+[3],weights=\"imagenet\",include_top=False)"
      ],
      "execution_count": 32,
      "outputs": []
    },
    {
      "cell_type": "code",
      "metadata": {
        "colab": {
          "base_uri": "https://localhost:8080/"
        },
        "id": "JixZ7pE7K6FY",
        "outputId": "b55e2f83-679f-4e0c-96ba-c642fbb0ba02"
      },
      "source": [
        "vgg16.summary()"
      ],
      "execution_count": 33,
      "outputs": [
        {
          "output_type": "stream",
          "text": [
            "Model: \"vgg16\"\n",
            "_________________________________________________________________\n",
            "Layer (type)                 Output Shape              Param #   \n",
            "=================================================================\n",
            "input_2 (InputLayer)         [(None, 224, 224, 3)]     0         \n",
            "_________________________________________________________________\n",
            "block1_conv1 (Conv2D)        (None, 224, 224, 64)      1792      \n",
            "_________________________________________________________________\n",
            "block1_conv2 (Conv2D)        (None, 224, 224, 64)      36928     \n",
            "_________________________________________________________________\n",
            "block1_pool (MaxPooling2D)   (None, 112, 112, 64)      0         \n",
            "_________________________________________________________________\n",
            "block2_conv1 (Conv2D)        (None, 112, 112, 128)     73856     \n",
            "_________________________________________________________________\n",
            "block2_conv2 (Conv2D)        (None, 112, 112, 128)     147584    \n",
            "_________________________________________________________________\n",
            "block2_pool (MaxPooling2D)   (None, 56, 56, 128)       0         \n",
            "_________________________________________________________________\n",
            "block3_conv1 (Conv2D)        (None, 56, 56, 256)       295168    \n",
            "_________________________________________________________________\n",
            "block3_conv2 (Conv2D)        (None, 56, 56, 256)       590080    \n",
            "_________________________________________________________________\n",
            "block3_conv3 (Conv2D)        (None, 56, 56, 256)       590080    \n",
            "_________________________________________________________________\n",
            "block3_pool (MaxPooling2D)   (None, 28, 28, 256)       0         \n",
            "_________________________________________________________________\n",
            "block4_conv1 (Conv2D)        (None, 28, 28, 512)       1180160   \n",
            "_________________________________________________________________\n",
            "block4_conv2 (Conv2D)        (None, 28, 28, 512)       2359808   \n",
            "_________________________________________________________________\n",
            "block4_conv3 (Conv2D)        (None, 28, 28, 512)       2359808   \n",
            "_________________________________________________________________\n",
            "block4_pool (MaxPooling2D)   (None, 14, 14, 512)       0         \n",
            "_________________________________________________________________\n",
            "block5_conv1 (Conv2D)        (None, 14, 14, 512)       2359808   \n",
            "_________________________________________________________________\n",
            "block5_conv2 (Conv2D)        (None, 14, 14, 512)       2359808   \n",
            "_________________________________________________________________\n",
            "block5_conv3 (Conv2D)        (None, 14, 14, 512)       2359808   \n",
            "_________________________________________________________________\n",
            "block5_pool (MaxPooling2D)   (None, 7, 7, 512)         0         \n",
            "=================================================================\n",
            "Total params: 14,714,688\n",
            "Trainable params: 14,714,688\n",
            "Non-trainable params: 0\n",
            "_________________________________________________________________\n"
          ],
          "name": "stdout"
        }
      ]
    },
    {
      "cell_type": "code",
      "metadata": {
        "id": "7Y5JoUpOK3Ek"
      },
      "source": [
        "for layer in vgg16.layers:\n",
        "  layer.trainable=False"
      ],
      "execution_count": 34,
      "outputs": []
    },
    {
      "cell_type": "code",
      "metadata": {
        "id": "070GxKPELN4O"
      },
      "source": [
        "x=Flatten()(vgg16.output)\n",
        "prediction_vgg16=Dense(units=len(folder),activation=\"softmax\")(x)\n",
        "model_vgg16=Model(inputs=vgg16.input,outputs=prediction_vgg16)"
      ],
      "execution_count": 35,
      "outputs": []
    },
    {
      "cell_type": "code",
      "metadata": {
        "colab": {
          "base_uri": "https://localhost:8080/"
        },
        "id": "1zlEs_pEL1TV",
        "outputId": "ae4902e7-8fc0-470c-b141-3704ccc29deb"
      },
      "source": [
        "model_vgg16.summary()"
      ],
      "execution_count": 36,
      "outputs": [
        {
          "output_type": "stream",
          "text": [
            "Model: \"model_3\"\n",
            "_________________________________________________________________\n",
            "Layer (type)                 Output Shape              Param #   \n",
            "=================================================================\n",
            "input_2 (InputLayer)         [(None, 224, 224, 3)]     0         \n",
            "_________________________________________________________________\n",
            "block1_conv1 (Conv2D)        (None, 224, 224, 64)      1792      \n",
            "_________________________________________________________________\n",
            "block1_conv2 (Conv2D)        (None, 224, 224, 64)      36928     \n",
            "_________________________________________________________________\n",
            "block1_pool (MaxPooling2D)   (None, 112, 112, 64)      0         \n",
            "_________________________________________________________________\n",
            "block2_conv1 (Conv2D)        (None, 112, 112, 128)     73856     \n",
            "_________________________________________________________________\n",
            "block2_conv2 (Conv2D)        (None, 112, 112, 128)     147584    \n",
            "_________________________________________________________________\n",
            "block2_pool (MaxPooling2D)   (None, 56, 56, 128)       0         \n",
            "_________________________________________________________________\n",
            "block3_conv1 (Conv2D)        (None, 56, 56, 256)       295168    \n",
            "_________________________________________________________________\n",
            "block3_conv2 (Conv2D)        (None, 56, 56, 256)       590080    \n",
            "_________________________________________________________________\n",
            "block3_conv3 (Conv2D)        (None, 56, 56, 256)       590080    \n",
            "_________________________________________________________________\n",
            "block3_pool (MaxPooling2D)   (None, 28, 28, 256)       0         \n",
            "_________________________________________________________________\n",
            "block4_conv1 (Conv2D)        (None, 28, 28, 512)       1180160   \n",
            "_________________________________________________________________\n",
            "block4_conv2 (Conv2D)        (None, 28, 28, 512)       2359808   \n",
            "_________________________________________________________________\n",
            "block4_conv3 (Conv2D)        (None, 28, 28, 512)       2359808   \n",
            "_________________________________________________________________\n",
            "block4_pool (MaxPooling2D)   (None, 14, 14, 512)       0         \n",
            "_________________________________________________________________\n",
            "block5_conv1 (Conv2D)        (None, 14, 14, 512)       2359808   \n",
            "_________________________________________________________________\n",
            "block5_conv2 (Conv2D)        (None, 14, 14, 512)       2359808   \n",
            "_________________________________________________________________\n",
            "block5_conv3 (Conv2D)        (None, 14, 14, 512)       2359808   \n",
            "_________________________________________________________________\n",
            "block5_pool (MaxPooling2D)   (None, 7, 7, 512)         0         \n",
            "_________________________________________________________________\n",
            "flatten_3 (Flatten)          (None, 25088)             0         \n",
            "_________________________________________________________________\n",
            "dense_3 (Dense)              (None, 4)                 100356    \n",
            "=================================================================\n",
            "Total params: 14,815,044\n",
            "Trainable params: 100,356\n",
            "Non-trainable params: 14,714,688\n",
            "_________________________________________________________________\n"
          ],
          "name": "stdout"
        }
      ]
    },
    {
      "cell_type": "code",
      "metadata": {
        "id": "DDkbSOPzL8Qa"
      },
      "source": [
        "model_vgg16.compile(optimizer=\"adam\",loss=\"categorical_crossentropy\",metrics=[\"accuracy\"])"
      ],
      "execution_count": 37,
      "outputs": []
    },
    {
      "cell_type": "code",
      "metadata": {
        "colab": {
          "base_uri": "https://localhost:8080/"
        },
        "id": "T_0_Sj7PMhX_",
        "outputId": "6aa3bce7-c503-414d-8d5c-61f423add885"
      },
      "source": [
        "transfer_vgg16=model_vgg16.fit_generator(training_set,validation_data=test_set,\n",
        "                                         epochs=20,steps_per_epoch=len(training_set),validation_steps=len(test_set))"
      ],
      "execution_count": 38,
      "outputs": [
        {
          "output_type": "stream",
          "text": [
            "/usr/local/lib/python3.6/dist-packages/tensorflow/python/keras/engine/training.py:1844: UserWarning: `Model.fit_generator` is deprecated and will be removed in a future version. Please use `Model.fit`, which supports generators.\n",
            "  warnings.warn('`Model.fit_generator` is deprecated and '\n"
          ],
          "name": "stderr"
        },
        {
          "output_type": "stream",
          "text": [
            "Epoch 1/20\n",
            "98/98 [==============================] - 42s 428ms/step - loss: 1.0784 - accuracy: 0.6261 - val_loss: 0.3537 - val_accuracy: 0.8333\n",
            "Epoch 2/20\n",
            "98/98 [==============================] - 38s 387ms/step - loss: 0.2435 - accuracy: 0.8953 - val_loss: 0.1506 - val_accuracy: 0.9444\n",
            "Epoch 3/20\n",
            "98/98 [==============================] - 38s 389ms/step - loss: 0.1936 - accuracy: 0.9225 - val_loss: 0.2947 - val_accuracy: 0.8889\n",
            "Epoch 4/20\n",
            "98/98 [==============================] - 39s 394ms/step - loss: 0.1364 - accuracy: 0.9412 - val_loss: 0.1584 - val_accuracy: 0.9444\n",
            "Epoch 5/20\n",
            "98/98 [==============================] - 38s 389ms/step - loss: 0.1292 - accuracy: 0.9546 - val_loss: 0.1808 - val_accuracy: 0.9444\n",
            "Epoch 6/20\n",
            "98/98 [==============================] - 38s 387ms/step - loss: 0.0997 - accuracy: 0.9650 - val_loss: 0.1708 - val_accuracy: 0.9444\n",
            "Epoch 7/20\n",
            "98/98 [==============================] - 38s 389ms/step - loss: 0.0674 - accuracy: 0.9747 - val_loss: 0.1576 - val_accuracy: 0.9444\n",
            "Epoch 8/20\n",
            "98/98 [==============================] - 38s 385ms/step - loss: 0.0603 - accuracy: 0.9796 - val_loss: 0.1590 - val_accuracy: 0.9444\n",
            "Epoch 9/20\n",
            "98/98 [==============================] - 37s 382ms/step - loss: 0.0814 - accuracy: 0.9656 - val_loss: 0.3547 - val_accuracy: 0.8889\n",
            "Epoch 10/20\n",
            "98/98 [==============================] - 37s 382ms/step - loss: 0.0478 - accuracy: 0.9856 - val_loss: 0.1117 - val_accuracy: 0.9444\n",
            "Epoch 11/20\n",
            "98/98 [==============================] - 37s 378ms/step - loss: 0.0445 - accuracy: 0.9855 - val_loss: 0.1402 - val_accuracy: 0.9444\n",
            "Epoch 12/20\n",
            "98/98 [==============================] - 36s 374ms/step - loss: 0.0436 - accuracy: 0.9840 - val_loss: 0.2235 - val_accuracy: 0.9444\n",
            "Epoch 13/20\n",
            "98/98 [==============================] - 36s 372ms/step - loss: 0.0698 - accuracy: 0.9734 - val_loss: 0.1494 - val_accuracy: 0.9444\n",
            "Epoch 14/20\n",
            "98/98 [==============================] - 37s 376ms/step - loss: 0.0453 - accuracy: 0.9844 - val_loss: 0.2208 - val_accuracy: 0.9444\n",
            "Epoch 15/20\n",
            "98/98 [==============================] - 37s 378ms/step - loss: 0.0178 - accuracy: 0.9957 - val_loss: 0.1197 - val_accuracy: 0.9444\n",
            "Epoch 16/20\n",
            "98/98 [==============================] - 37s 374ms/step - loss: 0.0255 - accuracy: 0.9899 - val_loss: 0.1255 - val_accuracy: 0.9444\n",
            "Epoch 17/20\n",
            "98/98 [==============================] - 36s 370ms/step - loss: 0.0629 - accuracy: 0.9778 - val_loss: 0.1892 - val_accuracy: 0.8889\n",
            "Epoch 18/20\n",
            "98/98 [==============================] - 36s 365ms/step - loss: 0.0589 - accuracy: 0.9792 - val_loss: 0.1827 - val_accuracy: 0.9444\n",
            "Epoch 19/20\n",
            "98/98 [==============================] - 36s 369ms/step - loss: 0.0280 - accuracy: 0.9924 - val_loss: 0.0750 - val_accuracy: 0.9444\n",
            "Epoch 20/20\n",
            "98/98 [==============================] - 36s 368ms/step - loss: 0.0202 - accuracy: 0.9915 - val_loss: 0.0250 - val_accuracy: 1.0000\n"
          ],
          "name": "stdout"
        }
      ]
    },
    {
      "cell_type": "code",
      "metadata": {
        "colab": {
          "base_uri": "https://localhost:8080/",
          "height": 530
        },
        "id": "esi663q5N4Ob",
        "outputId": "2544fa4d-c373-4cf3-d180-b57b06e6d61d"
      },
      "source": [
        "# plot the loss\n",
        "plt.plot(transfer_vgg16.history['loss'], label='train loss')\n",
        "plt.plot(transfer_vgg16.history['val_loss'], label='val loss')\n",
        "plt.legend()\n",
        "plt.show()\n",
        "plt.savefig('LossVal_loss')\n",
        "\n",
        "# plot the accuracy\n",
        "plt.plot(transfer_vgg16.history['accuracy'], label='train acc')\n",
        "plt.plot(transfer_vgg16.history['val_accuracy'], label='val acc')\n",
        "plt.legend()\n",
        "plt.show()\n",
        "plt.savefig('AccVal_acc')"
      ],
      "execution_count": 40,
      "outputs": [
        {
          "output_type": "display_data",
          "data": {
            "image/png": "[encoded data removed]",
            "text/plain": [
              "<Figure size 432x288 with 1 Axes>"
            ]
          },
          "metadata": {
            "tags": [],
            "needs_background": "light"
          }
        },
        {
          "output_type": "display_data",
          "data": {
            "image/png": "[encoded data removed]",
            "text/plain": [
              "<Figure size 432x288 with 1 Axes>"
            ]
          },
          "metadata": {
            "tags": [],
            "needs_background": "light"
          }
        },
        {
          "output_type": "display_data",
          "data": {
            "text/plain": [
              "<Figure size 432x288 with 0 Axes>"
            ]
          },
          "metadata": {
            "tags": []
          }
        }
      ]
    },
    {
      "cell_type": "code",
      "metadata": {
        "colab": {
          "base_uri": "https://localhost:8080/"
        },
        "id": "B284DNfdj9WK",
        "outputId": "89cd5e1e-f153-49dd-8e05-de1f087745ce"
      },
      "source": [
        "model_vgg16.save(\"model_tranfer_vgg16\")"
      ],
      "execution_count": 41,
      "outputs": [
        {
          "output_type": "stream",
          "text": [
            "INFO:tensorflow:Assets written to: model_tranfer_vgg16/assets\n"
          ],
          "name": "stdout"
        }
      ]
    },
    {
      "cell_type": "code",
      "metadata": {
        "id": "cWEAtem3kPRe"
      },
      "source": [
        "model_transfer_vgg16=load_model(\"model_tranfer_vgg16\")"
      ],
      "execution_count": 42,
      "outputs": []
    },
    {
      "cell_type": "code",
      "metadata": {
        "id": "dWlaPpr-khee"
      },
      "source": [
        "def predict(image_path,model):\n",
        "  img=image.load_img(image_path,target_size=(224,224))\n",
        "  x=image.img_to_array(img)\n",
        "  x=x/255\n",
        "  x=np.expand_dims(x,axis=0)\n",
        "  pred=model.predict(x)\n",
        "  pred=np.argmax(pred,axis=1)\n",
        "  if pred==0:\n",
        "    print(\"The leaf is diseased cotton leaf \")\n",
        "  elif pred==1:\n",
        "    print(\"The plant is diseased cotton plant\")\n",
        "  elif pred==2:\n",
        "    print(\"The leaf is fresh cotton leaf\")\n",
        "  else:\n",
        "    print(\"The Plant is fresh cotton plant\")"
      ],
      "execution_count": 43,
      "outputs": []
    },
    {
      "cell_type": "code",
      "metadata": {
        "colab": {
          "base_uri": "https://localhost:8080/"
        },
        "id": "6Yt8-k8RmKJ0",
        "outputId": "04e70584-be33-4e7a-b2f3-ec48e2fcef54"
      },
      "source": [
        "predict(\"/content/drive/MyDrive/Cotton_Dataset/val/fresh cotton plant/dsd (443)_iaip.jpg\",model_transfer_vgg16)"
      ],
      "execution_count": 46,
      "outputs": [
        {
          "output_type": "stream",
          "text": [
            "The Plant is fresh cotton plant\n"
          ],
          "name": "stdout"
        }
      ]
    },
    {
      "cell_type": "code",
      "metadata": {
        "id": "vuvOBtpxmauz"
      },
      "source": [
        ""
      ],
      "execution_count": null,
      "outputs": []
    }
  ]
}