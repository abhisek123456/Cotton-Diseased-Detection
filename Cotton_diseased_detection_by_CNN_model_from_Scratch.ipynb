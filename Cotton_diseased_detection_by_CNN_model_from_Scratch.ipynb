{
 "cells": [
  {
   "cell_type": "code",
   "execution_count": 2,
   "metadata": {
    "colab": {
     "base_uri": "https://localhost:8080/"
    },
    "id": "fAFpoRJY8j11",
    "outputId": "1b0584c2-ad79-4be5-b71f-bde865c34912"
   },
   "outputs": [
    {
     "name": "stderr",
     "output_type": "stream",
     "text": [
      "/usr/local/lib/python3.6/dist-packages/tensorflow/python/client/session.py:1761: UserWarning: An interactive session is already active. This can cause out-of-memory errors in some cases. You must explicitly call `InteractiveSession.close()` to release resources held by the other session(s).\n",
      "  warnings.warn('An interactive session is already active. This can '\n"
     ]
    }
   ],
   "source": [
    "from tensorflow.compat.v1 import ConfigProto\n",
    "from tensorflow.compat.v1 import InteractiveSession\n",
    "\n",
    "config = ConfigProto()\n",
    "config.gpu_options.per_process_gpu_memory_fraction = 0.5\n",
    "config.gpu_options.allow_growth = True\n",
    "session = InteractiveSession(config=config)"
   ]
  },
  {
   "cell_type": "code",
   "execution_count": 3,
   "metadata": {
    "id": "zVWrNvnI-8hD"
   },
   "outputs": [],
   "source": [
    "from tensorflow import keras\n",
    "from tensorflow.keras.models import Model,Sequential\n",
    "from tensorflow.keras.layers import Dense,Conv2D,MaxPool2D,Flatten\n",
    "from tensorflow.keras.preprocessing import image\n",
    "from tensorflow.keras.preprocessing.image import ImageDataGenerator\n",
    "from glob import glob\n",
    "import numpy as np"
   ]
  },
  {
   "cell_type": "code",
   "execution_count": 4,
   "metadata": {
    "id": "ODIKu23eFwGt"
   },
   "outputs": [],
   "source": [
    "train_datagen=ImageDataGenerator(rescale=1./255,horizontal_flip=True,\n",
    "                                 rotation_range=.2,shear_range=.2,zoom_range=.2)\n",
    "test_datagen=ImageDataGenerator(rescale=1./255)"
   ]
  },
  {
   "cell_type": "code",
   "execution_count": 5,
   "metadata": {
    "colab": {
     "base_uri": "https://localhost:8080/"
    },
    "id": "97_ZshczGRG-",
    "outputId": "c68aaaf9-5788-4101-9619-9cca9dd7ba53"
   },
   "outputs": [
    {
     "name": "stdout",
     "output_type": "stream",
     "text": [
      "Found 1951 images belonging to 4 classes.\n",
      "Found 18 images belonging to 4 classes.\n"
     ]
    }
   ],
   "source": [
    "training_set=train_datagen.flow_from_directory(\"/content/drive/MyDrive/Cotton_Dataset/train\",target_size=(224,224),\n",
    "                                               batch_size=20,class_mode=\"categorical\",shuffle=True)\n",
    "test_set=test_datagen.flow_from_directory(\"/content/drive/MyDrive/Cotton_Dataset/test\",target_size=(224,224),\n",
    "                                               batch_size=20,class_mode=\"categorical\",shuffle=True)"
   ]
  },
  {
   "cell_type": "code",
   "execution_count": 6,
   "metadata": {
    "colab": {
     "base_uri": "https://localhost:8080/"
    },
    "id": "devOKkYJHe2w",
    "outputId": "e03e1eaf-3b21-4271-9a34-91e139be9c95"
   },
   "outputs": [
    {
     "name": "stdout",
     "output_type": "stream",
     "text": [
      "The classes are \n"
     ]
    },
    {
     "data": {
      "text/plain": [
       "['/content/drive/MyDrive/Cotton_Dataset/train/fresh cotton leaf',\n",
       " '/content/drive/MyDrive/Cotton_Dataset/train/fresh cotton plant',\n",
       " '/content/drive/MyDrive/Cotton_Dataset/train/diseased cotton leaf',\n",
       " '/content/drive/MyDrive/Cotton_Dataset/train/diseased cotton plant']"
      ]
     },
     "execution_count": 6,
     "metadata": {
      "tags": []
     },
     "output_type": "execute_result"
    }
   ],
   "source": [
    "folder= glob(\"/content/drive/MyDrive/Cotton_Dataset/train/*\")\n",
    "print (\"The classes are \")\n",
    "folder"
   ]
  },
  {
   "cell_type": "code",
   "execution_count": 20,
   "metadata": {
    "id": "JsCXRImJH8aG"
   },
   "outputs": [],
   "source": [
    "def build_model(hp):\n",
    "  cnn_model=keras.Sequential([\n",
    "                              keras.layers.Conv2D(filters=hp.Int(\"Conv_1_filter\", min_value=32, max_value=128,step=16),activation=\"relu\",\n",
    "                                                  kernel_size=hp.Choice(\"Conv_1_filter_size\",values=[3,5]),input_shape=[224,224,3]),\n",
    "                              keras.layers.Conv2D(filters=hp.Int(\"Conv_2_filter\", min_value=64, max_value=128,step=16),activation=\"relu\",\n",
    "                                                  kernel_size=hp.Choice(\"Conv_2_filter_size\",values=[3,5])),\n",
    "                              keras.layers.Conv2D(filters=hp.Int(\"Conv_3_filter\", min_value=64, max_value=128,step=16),activation=\"relu\",\n",
    "                                                  kernel_size=hp.Choice(\"Conv_3_filter_size\",values=[3,5])),\n",
    "                              keras.layers.MaxPool2D(pool_size=hp.Choice(\"Maxpool_1\",values=[2,3,5])),\n",
    "                              keras.layers.Conv2D(filters=hp.Int(\"Conv_4_filter\", min_value=64, max_value=128,step=16),activation=\"relu\",\n",
    "                                                  kernel_size=hp.Choice(\"Conv_4_filter_size\",values=[3,5])),\n",
    "                              keras.layers.Conv2D(filters=hp.Int(\"Conv_5_filter\", min_value=64, max_value=128,step=16),activation=\"relu\",\n",
    "                                                  kernel_size=hp.Choice(\"Conv_5_filter_size\",values=[3,5])),\n",
    "                              keras.layers.MaxPool2D(pool_size=hp.Choice(\"Maxpool_2\",values=[2,3,5])),\n",
    "                              keras.layers.Conv2D(filters=hp.Int(\"Conv_6_filter\", min_value=32, max_value=128,step=16),activation=\"relu\",\n",
    "                                                  kernel_size=hp.Choice(\"Conv_6_filter_size\",values=[3,5])),\n",
    "                              keras.layers.Conv2D(filters=hp.Int(\"Conv_7_filter\", min_value=32, max_value=128,step=16),activation=\"relu\",\n",
    "                                                  kernel_size=hp.Choice(\"Conv_7_filter_size\",values=[3,5])),\n",
    "                              keras.layers.Flatten(),\n",
    "                              keras.layers.Dense(units=hp.Int(\"Dense_1_neurons\", min_value=4, max_value=10,step=1),activation=\"relu\"),\n",
    "                              keras.layers.Dense(units=len(folder),activation=\"softmax\")\n",
    "\n",
    "  ])\n",
    "  cnn_model.compile(optimizer=keras.optimizers.Adam(hp.Choice(\"Learning_rate\", values=[.01,.001,.0001])),\n",
    "                    loss=\"categorical_crossentropy\",metrics=[\"accuracy\"])\n",
    "  return cnn_model\n"
   ]
  },
  {
   "cell_type": "code",
   "execution_count": 14,
   "metadata": {
    "colab": {
     "base_uri": "https://localhost:8080/"
    },
    "id": "pju6K5GnMAJo",
    "outputId": "60156c9e-2472-49ac-aee3-b5b4ccbeaea6"
   },
   "outputs": [
    {
     "name": "stdout",
     "output_type": "stream",
     "text": [
      "Requirement already satisfied: keras-tuner in /usr/local/lib/python3.6/dist-packages (1.0.2)\n",
      "Requirement already satisfied: future in /usr/local/lib/python3.6/dist-packages (from keras-tuner) (0.16.0)\n",
      "Requirement already satisfied: requests in /usr/local/lib/python3.6/dist-packages (from keras-tuner) (2.23.0)\n",
      "Requirement already satisfied: terminaltables in /usr/local/lib/python3.6/dist-packages (from keras-tuner) (3.1.0)\n",
      "Requirement already satisfied: scikit-learn in /usr/local/lib/python3.6/dist-packages (from keras-tuner) (0.22.2.post1)\n",
      "Requirement already satisfied: tqdm in /usr/local/lib/python3.6/dist-packages (from keras-tuner) (4.41.1)\n",
      "Requirement already satisfied: scipy in /usr/local/lib/python3.6/dist-packages (from keras-tuner) (1.4.1)\n",
      "Requirement already satisfied: numpy in /usr/local/lib/python3.6/dist-packages (from keras-tuner) (1.19.5)\n",
      "Requirement already satisfied: colorama in /usr/local/lib/python3.6/dist-packages (from keras-tuner) (0.4.4)\n",
      "Requirement already satisfied: packaging in /usr/local/lib/python3.6/dist-packages (from keras-tuner) (20.9)\n",
      "Requirement already satisfied: tabulate in /usr/local/lib/python3.6/dist-packages (from keras-tuner) (0.8.7)\n",
      "Requirement already satisfied: idna<3,>=2.5 in /usr/local/lib/python3.6/dist-packages (from requests->keras-tuner) (2.10)\n",
      "Requirement already satisfied: urllib3!=1.25.0,!=1.25.1,<1.26,>=1.21.1 in /usr/local/lib/python3.6/dist-packages (from requests->keras-tuner) (1.24.3)\n",
      "Requirement already satisfied: chardet<4,>=3.0.2 in /usr/local/lib/python3.6/dist-packages (from requests->keras-tuner) (3.0.4)\n",
      "Requirement already satisfied: certifi>=2017.4.17 in /usr/local/lib/python3.6/dist-packages (from requests->keras-tuner) (2020.12.5)\n",
      "Requirement already satisfied: joblib>=0.11 in /usr/local/lib/python3.6/dist-packages (from scikit-learn->keras-tuner) (1.0.0)\n",
      "Requirement already satisfied: pyparsing>=2.0.2 in /usr/local/lib/python3.6/dist-packages (from packaging->keras-tuner) (2.4.7)\n"
     ]
    }
   ],
   "source": [
    "pip install keras-tuner"
   ]
  },
  {
   "cell_type": "code",
   "execution_count": 15,
   "metadata": {
    "id": "H8Dinn9XME51"
   },
   "outputs": [],
   "source": [
    "from kerastuner import RandomSearch\n",
    "from kerastuner.engine.hyperparameters import HyperParameters"
   ]
  },
  {
   "cell_type": "code",
   "execution_count": 21,
   "metadata": {
    "id": "EJfwRwnbMZjt"
   },
   "outputs": [],
   "source": [
    "tuner_search=RandomSearch(build_model,objective=\"accuracy\",max_trials=4,\n",
    "                          directory=\"output\",project_name=\"Cotton_decease_detection\")"
   ]
  },
  {
   "cell_type": "code",
   "execution_count": 22,
   "metadata": {
    "colab": {
     "base_uri": "https://localhost:8080/"
    },
    "id": "RPiSFF3BM1x6",
    "outputId": "242962f2-2502-4311-c7a3-15d83d0811fc"
   },
   "outputs": [
    {
     "name": "stdout",
     "output_type": "stream",
     "text": [
      "Trial 4 Complete [00h 03m 11s]\n",
      "accuracy: 0.4177345037460327\n",
      "\n",
      "Best accuracy So Far: 0.531522274017334\n",
      "Total elapsed time: 00h 12m 53s\n",
      "INFO:tensorflow:Oracle triggered exit\n"
     ]
    }
   ],
   "source": [
    "tuner_search.search(training_set,epochs=5)"
   ]
  },
  {
   "cell_type": "code",
   "execution_count": 23,
   "metadata": {
    "id": "be2flwXnNfye"
   },
   "outputs": [],
   "source": [
    "r=tuner_search.get_best_models(num_models=1)[0]"
   ]
  },
  {
   "cell_type": "code",
   "execution_count": 24,
   "metadata": {
    "colab": {
     "base_uri": "https://localhost:8080/"
    },
    "id": "ZncpbUu3Y9jh",
    "outputId": "543b774a-56f0-4310-b4d7-25af582400da"
   },
   "outputs": [
    {
     "name": "stderr",
     "output_type": "stream",
     "text": [
      "/usr/local/lib/python3.6/dist-packages/tensorflow/python/keras/engine/training.py:1844: UserWarning: `Model.fit_generator` is deprecated and will be removed in a future version. Please use `Model.fit`, which supports generators.\n",
      "  warnings.warn('`Model.fit_generator` is deprecated and '\n"
     ]
    },
    {
     "name": "stdout",
     "output_type": "stream",
     "text": [
      "Epoch 6/50\n",
      "98/98 [==============================] - 46s 464ms/step - loss: 1.0499 - accuracy: 0.5501 - val_loss: 0.9807 - val_accuracy: 0.5000\n",
      "Epoch 7/50\n",
      "98/98 [==============================] - 42s 424ms/step - loss: 1.0473 - accuracy: 0.5547 - val_loss: 1.0048 - val_accuracy: 0.5556\n",
      "Epoch 8/50\n",
      "98/98 [==============================] - 42s 427ms/step - loss: 1.0178 - accuracy: 0.5685 - val_loss: 1.2134 - val_accuracy: 0.5000\n",
      "Epoch 9/50\n",
      "98/98 [==============================] - 42s 433ms/step - loss: 0.9912 - accuracy: 0.5582 - val_loss: 0.9921 - val_accuracy: 0.5556\n",
      "Epoch 10/50\n",
      "98/98 [==============================] - 42s 426ms/step - loss: 1.0044 - accuracy: 0.5730 - val_loss: 1.0154 - val_accuracy: 0.4444\n",
      "Epoch 11/50\n",
      "98/98 [==============================] - 42s 431ms/step - loss: 0.9675 - accuracy: 0.5921 - val_loss: 1.2067 - val_accuracy: 0.4444\n",
      "Epoch 12/50\n",
      "98/98 [==============================] - 42s 428ms/step - loss: 0.9677 - accuracy: 0.5816 - val_loss: 1.3303 - val_accuracy: 0.5000\n",
      "Epoch 13/50\n",
      "98/98 [==============================] - 43s 434ms/step - loss: 1.0313 - accuracy: 0.5754 - val_loss: 1.0432 - val_accuracy: 0.5556\n",
      "Epoch 14/50\n",
      "98/98 [==============================] - 42s 430ms/step - loss: 0.9459 - accuracy: 0.5863 - val_loss: 1.0603 - val_accuracy: 0.5556\n",
      "Epoch 15/50\n",
      "98/98 [==============================] - 42s 430ms/step - loss: 0.9203 - accuracy: 0.6127 - val_loss: 1.0304 - val_accuracy: 0.5000\n",
      "Epoch 16/50\n",
      "98/98 [==============================] - 42s 431ms/step - loss: 0.9411 - accuracy: 0.5855 - val_loss: 0.9948 - val_accuracy: 0.5556\n",
      "Epoch 17/50\n",
      "98/98 [==============================] - 42s 427ms/step - loss: 0.9259 - accuracy: 0.6079 - val_loss: 0.9896 - val_accuracy: 0.5556\n",
      "Epoch 18/50\n",
      "98/98 [==============================] - 42s 430ms/step - loss: 0.8851 - accuracy: 0.6019 - val_loss: 0.9899 - val_accuracy: 0.5556\n",
      "Epoch 19/50\n",
      "98/98 [==============================] - 43s 440ms/step - loss: 0.8777 - accuracy: 0.6191 - val_loss: 0.9801 - val_accuracy: 0.5556\n",
      "Epoch 20/50\n",
      "98/98 [==============================] - 43s 441ms/step - loss: 0.8771 - accuracy: 0.6036 - val_loss: 1.0398 - val_accuracy: 0.5000\n",
      "Epoch 21/50\n",
      "98/98 [==============================] - 43s 438ms/step - loss: 0.9051 - accuracy: 0.5832 - val_loss: 0.9865 - val_accuracy: 0.5556\n",
      "Epoch 22/50\n",
      "98/98 [==============================] - 42s 428ms/step - loss: 0.9326 - accuracy: 0.6090 - val_loss: 0.9955 - val_accuracy: 0.5556\n",
      "Epoch 23/50\n",
      "98/98 [==============================] - 42s 428ms/step - loss: 0.9076 - accuracy: 0.5954 - val_loss: 0.9409 - val_accuracy: 0.5556\n",
      "Epoch 24/50\n",
      "98/98 [==============================] - 42s 425ms/step - loss: 0.8512 - accuracy: 0.6264 - val_loss: 0.9319 - val_accuracy: 0.5556\n",
      "Epoch 25/50\n",
      "98/98 [==============================] - 42s 427ms/step - loss: 0.8515 - accuracy: 0.6256 - val_loss: 0.9566 - val_accuracy: 0.5556\n",
      "Epoch 26/50\n",
      "98/98 [==============================] - 42s 431ms/step - loss: 0.8516 - accuracy: 0.6170 - val_loss: 0.9347 - val_accuracy: 0.5556\n",
      "Epoch 27/50\n",
      "98/98 [==============================] - 42s 425ms/step - loss: 0.8574 - accuracy: 0.6268 - val_loss: 0.9563 - val_accuracy: 0.5000\n",
      "Epoch 28/50\n",
      "98/98 [==============================] - 42s 429ms/step - loss: 0.8412 - accuracy: 0.6228 - val_loss: 0.9157 - val_accuracy: 0.5556\n",
      "Epoch 29/50\n",
      "98/98 [==============================] - 42s 431ms/step - loss: 0.9416 - accuracy: 0.5764 - val_loss: 0.9517 - val_accuracy: 0.5556\n",
      "Epoch 30/50\n",
      "98/98 [==============================] - 42s 426ms/step - loss: 0.8268 - accuracy: 0.6303 - val_loss: 0.9615 - val_accuracy: 0.5000\n",
      "Epoch 31/50\n",
      "98/98 [==============================] - 41s 418ms/step - loss: 0.8256 - accuracy: 0.6327 - val_loss: 0.8953 - val_accuracy: 0.5556\n",
      "Epoch 32/50\n",
      "98/98 [==============================] - 41s 415ms/step - loss: 0.8193 - accuracy: 0.6185 - val_loss: 0.8811 - val_accuracy: 0.5556\n",
      "Epoch 33/50\n",
      "98/98 [==============================] - 41s 413ms/step - loss: 0.8191 - accuracy: 0.6076 - val_loss: 0.8528 - val_accuracy: 0.5556\n",
      "Epoch 34/50\n",
      "98/98 [==============================] - 41s 419ms/step - loss: 0.8198 - accuracy: 0.6342 - val_loss: 0.8833 - val_accuracy: 0.5556\n",
      "Epoch 35/50\n",
      "98/98 [==============================] - 42s 423ms/step - loss: 0.8088 - accuracy: 0.6283 - val_loss: 0.8994 - val_accuracy: 0.5000\n",
      "Epoch 36/50\n",
      "98/98 [==============================] - 42s 424ms/step - loss: 0.7991 - accuracy: 0.6288 - val_loss: 0.8849 - val_accuracy: 0.5556\n",
      "Epoch 37/50\n",
      "98/98 [==============================] - 42s 424ms/step - loss: 0.8538 - accuracy: 0.5890 - val_loss: 1.0745 - val_accuracy: 0.5000\n",
      "Epoch 38/50\n",
      "98/98 [==============================] - 42s 426ms/step - loss: 0.7994 - accuracy: 0.6178 - val_loss: 0.9307 - val_accuracy: 0.5000\n",
      "Epoch 39/50\n",
      "98/98 [==============================] - 42s 423ms/step - loss: 0.7713 - accuracy: 0.6339 - val_loss: 0.9096 - val_accuracy: 0.5000\n",
      "Epoch 40/50\n",
      "98/98 [==============================] - 42s 425ms/step - loss: 0.7866 - accuracy: 0.6275 - val_loss: 0.8607 - val_accuracy: 0.5556\n",
      "Epoch 41/50\n",
      "98/98 [==============================] - 41s 419ms/step - loss: 0.7936 - accuracy: 0.6080 - val_loss: 0.8640 - val_accuracy: 0.5556\n",
      "Epoch 42/50\n",
      "98/98 [==============================] - 41s 419ms/step - loss: 0.7492 - accuracy: 0.6398 - val_loss: 0.8421 - val_accuracy: 0.5556\n",
      "Epoch 43/50\n",
      "98/98 [==============================] - 42s 426ms/step - loss: 0.7497 - accuracy: 0.6285 - val_loss: 0.8707 - val_accuracy: 0.5556\n",
      "Epoch 44/50\n",
      "98/98 [==============================] - 42s 424ms/step - loss: 0.7582 - accuracy: 0.6377 - val_loss: 0.8458 - val_accuracy: 0.5556\n",
      "Epoch 45/50\n",
      "98/98 [==============================] - 42s 429ms/step - loss: 0.7657 - accuracy: 0.6349 - val_loss: 0.9347 - val_accuracy: 0.5000\n",
      "Epoch 46/50\n",
      "98/98 [==============================] - 42s 431ms/step - loss: 0.8428 - accuracy: 0.6348 - val_loss: 0.9245 - val_accuracy: 0.5000\n",
      "Epoch 47/50\n",
      "98/98 [==============================] - 42s 423ms/step - loss: 0.7617 - accuracy: 0.6379 - val_loss: 0.8203 - val_accuracy: 0.6111\n",
      "Epoch 48/50\n",
      "98/98 [==============================] - 41s 422ms/step - loss: 0.7573 - accuracy: 0.6454 - val_loss: 0.8404 - val_accuracy: 0.5556\n",
      "Epoch 49/50\n",
      "98/98 [==============================] - 41s 419ms/step - loss: 0.7243 - accuracy: 0.6481 - val_loss: 0.8238 - val_accuracy: 0.6111\n",
      "Epoch 50/50\n",
      "98/98 [==============================] - 42s 426ms/step - loss: 0.7503 - accuracy: 0.6411 - val_loss: 0.7985 - val_accuracy: 0.5556\n"
     ]
    }
   ],
   "source": [
    "CNN_model=r.fit_generator(training_set,epochs=50,initial_epoch=5,\n",
    "                          validation_data=test_set,steps_per_epoch=len(training_set),validation_steps=len(test_set))"
   ]
  },
  {
   "cell_type": "code",
   "execution_count": 25,
   "metadata": {
    "colab": {
     "base_uri": "https://localhost:8080/",
     "height": 531
    },
    "id": "P6TBAfqJZiAT",
    "outputId": "0f06aee1-6365-4c8a-efe1-2adff9383c6b"
   },
   "outputs": [
    {
     "data": {
      "image/png": "[encoded data removed]",
      "text/plain": [
       "<Figure size 432x288 with 1 Axes>"
      ]
     },
     "metadata": {
      "needs_background": "light",
      "tags": []
     },
     "output_type": "display_data"
    },
    {
     "data": {
      "image/png": "[encoded data removed]",
      "text/plain": [
       "<Figure size 432x288 with 1 Axes>"
      ]
     },
     "metadata": {
      "needs_background": "light",
      "tags": []
     },
     "output_type": "display_data"
    },
    {
     "data": {
      "text/plain": [
       "<Figure size 432x288 with 0 Axes>"
      ]
     },
     "metadata": {
      "tags": []
     },
     "output_type": "display_data"
    }
   ],
   "source": [
    "import matplotlib.pyplot as plt\n",
    "\n",
    "# plot the loss\n",
    "plt.plot(CNN_model.history['loss'], label='train loss')\n",
    "plt.plot(CNN_model.history['val_loss'], label='val loss')\n",
    "plt.legend()\n",
    "plt.show()\n",
    "plt.savefig('LossVal_loss')\n",
    "\n",
    "# plot the accuracy\n",
    "plt.plot(CNN_model.history['accuracy'], label='train acc')\n",
    "plt.plot(CNN_model.history['val_accuracy'], label='val acc')\n",
    "plt.legend()\n",
    "plt.show()\n",
    "plt.savefig('AccVal_acc')"
   ]
  },
  {
   "cell_type": "code",
   "execution_count": 28,
   "metadata": {
    "id": "XLwXwt_1cOBy"
   },
   "outputs": [],
   "source": [
    "r.save(\"model_cnn_cotton.h5\")"
   ]
  },
  {
   "cell_type": "code",
   "execution_count": 29,
   "metadata": {
    "colab": {
     "base_uri": "https://localhost:8080/"
    },
    "id": "NzyU3Ez_F2sO",
    "outputId": "186f0492-82c3-44d6-d513-89dd5f16050e"
   },
   "outputs": [
    {
     "name": "stdout",
     "output_type": "stream",
     "text": [
      "WARNING:tensorflow:Error in loading the saved optimizer state. As a result, your model is starting with a freshly initialized optimizer.\n"
     ]
    }
   ],
   "source": [
    "from tensorflow.keras.models import load_model\n",
    "model_cnn=load_model(\"model_cnn_cotton.h5\")"
   ]
  },
  {
   "cell_type": "code",
   "execution_count": 33,
   "metadata": {
    "id": "tIS371yIGIdn"
   },
   "outputs": [],
   "source": [
    "def predict(image_path,model):\n",
    "  img=image.load_img(image_path,target_size=(224,224))\n",
    "  x=image.img_to_array(img)\n",
    "  x=x/255\n",
    "  x=np.expand_dims(x,axis=0)\n",
    "\n",
    "  pred=model.predict(x)\n",
    "  pred=np.argmax(pred,axis=1)\n",
    "  if pred==0:\n",
    "    print(\"The leaf is diseased cotton leaf\")\n",
    "  elif pred==1:\n",
    "    print(\"The plant is diseased cotton plant\")\n",
    "  elif pred==2:\n",
    "    print(\"The leaf is fresh cotton leaf\")\n",
    "  else: \n",
    "    print(\"The plant is fresh cotton plant\")\n",
    "  "
   ]
  },
  {
   "cell_type": "code",
   "execution_count": 41,
   "metadata": {
    "colab": {
     "base_uri": "https://localhost:8080/"
    },
    "id": "wDPqWx42IWT9",
    "outputId": "d6a6c86a-9d45-4638-c90c-8fb6072ba43b"
   },
   "outputs": [
    {
     "name": "stdout",
     "output_type": "stream",
     "text": [
      "The plant is diseased cotton plant\n"
     ]
    }
   ],
   "source": [
    "predict(\"/content/drive/MyDrive/Cotton_Dataset/train/diseased cotton plant/dd (105)_iaip.jpg\",model_cnn)"
   ]
  },
  {
   "cell_type": "code",
   "execution_count": null,
   "metadata": {
    "id": "968O2SskIsHP"
   },
   "outputs": [],
   "source": []
  }
 ],
 "metadata": {
  "accelerator": "GPU",
  "colab": {
   "name": "Cotton decease detection by CNN model from Scratch.ipynb",
   "provenance": []
  },
  "kernelspec": {
   "display_name": "Python 3",
   "language": "python",
   "name": "python3"
  },
  "language_info": {
   "codemirror_mode": {
    "name": "ipython",
    "version": 3
   },
   "file_extension": ".py",
   "mimetype": "text/x-python",
   "name": "python",
   "nbconvert_exporter": "python",
   "pygments_lexer": "ipython3",
   "version": "3.8.5"
  }
 },
 "nbformat": 4,
 "nbformat_minor": 1
}
